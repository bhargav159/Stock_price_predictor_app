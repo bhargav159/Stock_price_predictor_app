{
 "cells": [
  {
   "cell_type": "code",
   "execution_count": 3,
   "id": "e10475ec-5757-4d45-bde6-ef2805a4fa1b",
   "metadata": {
    "collapsed": true,
    "jupyter": {
     "outputs_hidden": true
    },
    "tags": []
   },
   "outputs": [],
   "source": [
    "# pip install yfinance"
   ]
  },
  {
   "cell_type": "code",
   "execution_count": 4,
   "id": "2b906ece-91fb-477b-af15-3bad859fc87a",
   "metadata": {
    "tags": []
   },
   "outputs": [],
   "source": [
    "import yfinance as yf"
   ]
  },
  {
   "cell_type": "code",
   "execution_count": 5,
   "id": "310e6152-8657-41ce-804d-d0fbc7992576",
   "metadata": {
    "tags": []
   },
   "outputs": [],
   "source": [
    "from datetime import datetime\n",
    "end = datetime.now()\n",
    "start = datetime(end.year-20, end.month, end.day)"
   ]
  },
  {
   "cell_type": "code",
   "execution_count": 6,
   "id": "9744bcd9-e55c-44b5-b471-e63bd1bd12bc",
   "metadata": {
    "tags": []
   },
   "outputs": [
    {
     "name": "stderr",
     "output_type": "stream",
     "text": [
      "[*********************100%***********************]  1 of 1 completed\n"
     ]
    }
   ],
   "source": [
    "stock = \"GOOG\"\n",
    "google_data = yf.download(stock, start, end)"
   ]
  },
  {
   "cell_type": "code",
   "execution_count": 7,
   "id": "8a9b8886-4786-4e5c-9330-83ac0c96fd20",
   "metadata": {
    "tags": []
   },
   "outputs": [
    {
     "data": {
      "text/html": [
       "<div>\n",
       "<style scoped>\n",
       "    .dataframe tbody tr th:only-of-type {\n",
       "        vertical-align: middle;\n",
       "    }\n",
       "\n",
       "    .dataframe tbody tr th {\n",
       "        vertical-align: top;\n",
       "    }\n",
       "\n",
       "    .dataframe thead tr th {\n",
       "        text-align: left;\n",
       "    }\n",
       "\n",
       "    .dataframe thead tr:last-of-type th {\n",
       "        text-align: right;\n",
       "    }\n",
       "</style>\n",
       "<table border=\"1\" class=\"dataframe\">\n",
       "  <thead>\n",
       "    <tr>\n",
       "      <th>Price</th>\n",
       "      <th>Adj Close</th>\n",
       "      <th>Close</th>\n",
       "      <th>High</th>\n",
       "      <th>Low</th>\n",
       "      <th>Open</th>\n",
       "      <th>Volume</th>\n",
       "    </tr>\n",
       "    <tr>\n",
       "      <th>Ticker</th>\n",
       "      <th>GOOG</th>\n",
       "      <th>GOOG</th>\n",
       "      <th>GOOG</th>\n",
       "      <th>GOOG</th>\n",
       "      <th>GOOG</th>\n",
       "      <th>GOOG</th>\n",
       "    </tr>\n",
       "    <tr>\n",
       "      <th>Date</th>\n",
       "      <th></th>\n",
       "      <th></th>\n",
       "      <th></th>\n",
       "      <th></th>\n",
       "      <th></th>\n",
       "      <th></th>\n",
       "    </tr>\n",
       "  </thead>\n",
       "  <tbody>\n",
       "    <tr>\n",
       "      <th>2005-01-03</th>\n",
       "      <td>5.030750</td>\n",
       "      <td>5.048826</td>\n",
       "      <td>5.071989</td>\n",
       "      <td>4.868253</td>\n",
       "      <td>4.916571</td>\n",
       "      <td>636143518</td>\n",
       "    </tr>\n",
       "    <tr>\n",
       "      <th>2005-01-04</th>\n",
       "      <td>4.826999</td>\n",
       "      <td>4.844342</td>\n",
       "      <td>5.054305</td>\n",
       "      <td>4.818937</td>\n",
       "      <td>5.016198</td>\n",
       "      <td>552298420</td>\n",
       "    </tr>\n",
       "    <tr>\n",
       "      <th>2005-01-05</th>\n",
       "      <td>4.802429</td>\n",
       "      <td>4.819685</td>\n",
       "      <td>4.904118</td>\n",
       "      <td>4.787804</td>\n",
       "      <td>4.818190</td>\n",
       "      <td>330698912</td>\n",
       "    </tr>\n",
       "    <tr>\n",
       "      <th>2005-01-06</th>\n",
       "      <td>4.679335</td>\n",
       "      <td>4.696148</td>\n",
       "      <td>4.879212</td>\n",
       "      <td>4.675475</td>\n",
       "      <td>4.858788</td>\n",
       "      <td>417041336</td>\n",
       "    </tr>\n",
       "    <tr>\n",
       "      <th>2005-01-07</th>\n",
       "      <td>4.810867</td>\n",
       "      <td>4.828153</td>\n",
       "      <td>4.838116</td>\n",
       "      <td>4.701876</td>\n",
       "      <td>4.748203</td>\n",
       "      <td>387964757</td>\n",
       "    </tr>\n",
       "  </tbody>\n",
       "</table>\n",
       "</div>"
      ],
      "text/plain": [
       "Price      Adj Close     Close      High       Low      Open     Volume\n",
       "Ticker          GOOG      GOOG      GOOG      GOOG      GOOG       GOOG\n",
       "Date                                                                   \n",
       "2005-01-03  5.030750  5.048826  5.071989  4.868253  4.916571  636143518\n",
       "2005-01-04  4.826999  4.844342  5.054305  4.818937  5.016198  552298420\n",
       "2005-01-05  4.802429  4.819685  4.904118  4.787804  4.818190  330698912\n",
       "2005-01-06  4.679335  4.696148  4.879212  4.675475  4.858788  417041336\n",
       "2005-01-07  4.810867  4.828153  4.838116  4.701876  4.748203  387964757"
      ]
     },
     "execution_count": 7,
     "metadata": {},
     "output_type": "execute_result"
    }
   ],
   "source": [
    "google_data.head()"
   ]
  },
  {
   "cell_type": "code",
   "execution_count": 8,
   "id": "c8e4d2a9-c107-422e-8c54-44a4455c54fd",
   "metadata": {
    "tags": []
   },
   "outputs": [
    {
     "data": {
      "text/plain": [
       "(5033, 6)"
      ]
     },
     "execution_count": 8,
     "metadata": {},
     "output_type": "execute_result"
    }
   ],
   "source": [
    "google_data.shape"
   ]
  },
  {
   "cell_type": "code",
   "execution_count": 9,
   "id": "f1f0f848-9caf-495f-8cf1-59759e2b76c5",
   "metadata": {
    "tags": []
   },
   "outputs": [
    {
     "data": {
      "text/html": [
       "<div>\n",
       "<style scoped>\n",
       "    .dataframe tbody tr th:only-of-type {\n",
       "        vertical-align: middle;\n",
       "    }\n",
       "\n",
       "    .dataframe tbody tr th {\n",
       "        vertical-align: top;\n",
       "    }\n",
       "\n",
       "    .dataframe thead tr th {\n",
       "        text-align: left;\n",
       "    }\n",
       "</style>\n",
       "<table border=\"1\" class=\"dataframe\">\n",
       "  <thead>\n",
       "    <tr>\n",
       "      <th>Price</th>\n",
       "      <th>Adj Close</th>\n",
       "      <th>Close</th>\n",
       "      <th>High</th>\n",
       "      <th>Low</th>\n",
       "      <th>Open</th>\n",
       "      <th>Volume</th>\n",
       "    </tr>\n",
       "    <tr>\n",
       "      <th>Ticker</th>\n",
       "      <th>GOOG</th>\n",
       "      <th>GOOG</th>\n",
       "      <th>GOOG</th>\n",
       "      <th>GOOG</th>\n",
       "      <th>GOOG</th>\n",
       "      <th>GOOG</th>\n",
       "    </tr>\n",
       "  </thead>\n",
       "  <tbody>\n",
       "    <tr>\n",
       "      <th>count</th>\n",
       "      <td>5033.000000</td>\n",
       "      <td>5033.000000</td>\n",
       "      <td>5033.000000</td>\n",
       "      <td>5033.000000</td>\n",
       "      <td>5033.000000</td>\n",
       "      <td>5.033000e+03</td>\n",
       "    </tr>\n",
       "    <tr>\n",
       "      <th>mean</th>\n",
       "      <td>48.557006</td>\n",
       "      <td>48.721578</td>\n",
       "      <td>49.214235</td>\n",
       "      <td>48.213627</td>\n",
       "      <td>48.700322</td>\n",
       "      <td>1.090427e+08</td>\n",
       "    </tr>\n",
       "    <tr>\n",
       "      <th>std</th>\n",
       "      <td>46.457020</td>\n",
       "      <td>46.596970</td>\n",
       "      <td>47.082267</td>\n",
       "      <td>46.106519</td>\n",
       "      <td>46.565803</td>\n",
       "      <td>1.422561e+08</td>\n",
       "    </tr>\n",
       "    <tr>\n",
       "      <th>min</th>\n",
       "      <td>4.342810</td>\n",
       "      <td>4.358414</td>\n",
       "      <td>4.443345</td>\n",
       "      <td>4.298140</td>\n",
       "      <td>4.366135</td>\n",
       "      <td>1.584340e+05</td>\n",
       "    </tr>\n",
       "    <tr>\n",
       "      <th>25%</th>\n",
       "      <td>13.288515</td>\n",
       "      <td>13.336262</td>\n",
       "      <td>13.485951</td>\n",
       "      <td>13.213224</td>\n",
       "      <td>13.374868</td>\n",
       "      <td>2.658400e+07</td>\n",
       "    </tr>\n",
       "    <tr>\n",
       "      <th>50%</th>\n",
       "      <td>28.048210</td>\n",
       "      <td>28.148991</td>\n",
       "      <td>28.435431</td>\n",
       "      <td>27.876465</td>\n",
       "      <td>28.182125</td>\n",
       "      <td>5.058490e+07</td>\n",
       "    </tr>\n",
       "    <tr>\n",
       "      <th>75%</th>\n",
       "      <td>64.370209</td>\n",
       "      <td>64.601501</td>\n",
       "      <td>64.965500</td>\n",
       "      <td>63.950001</td>\n",
       "      <td>64.473000</td>\n",
       "      <td>1.328240e+08</td>\n",
       "    </tr>\n",
       "    <tr>\n",
       "      <th>max</th>\n",
       "      <td>198.160004</td>\n",
       "      <td>198.160004</td>\n",
       "      <td>202.880005</td>\n",
       "      <td>196.690002</td>\n",
       "      <td>198.529999</td>\n",
       "      <td>1.650833e+09</td>\n",
       "    </tr>\n",
       "  </tbody>\n",
       "</table>\n",
       "</div>"
      ],
      "text/plain": [
       "Price     Adj Close        Close         High          Low         Open  \\\n",
       "Ticker         GOOG         GOOG         GOOG         GOOG         GOOG   \n",
       "count   5033.000000  5033.000000  5033.000000  5033.000000  5033.000000   \n",
       "mean      48.557006    48.721578    49.214235    48.213627    48.700322   \n",
       "std       46.457020    46.596970    47.082267    46.106519    46.565803   \n",
       "min        4.342810     4.358414     4.443345     4.298140     4.366135   \n",
       "25%       13.288515    13.336262    13.485951    13.213224    13.374868   \n",
       "50%       28.048210    28.148991    28.435431    27.876465    28.182125   \n",
       "75%       64.370209    64.601501    64.965500    63.950001    64.473000   \n",
       "max      198.160004   198.160004   202.880005   196.690002   198.529999   \n",
       "\n",
       "Price         Volume  \n",
       "Ticker          GOOG  \n",
       "count   5.033000e+03  \n",
       "mean    1.090427e+08  \n",
       "std     1.422561e+08  \n",
       "min     1.584340e+05  \n",
       "25%     2.658400e+07  \n",
       "50%     5.058490e+07  \n",
       "75%     1.328240e+08  \n",
       "max     1.650833e+09  "
      ]
     },
     "execution_count": 9,
     "metadata": {},
     "output_type": "execute_result"
    }
   ],
   "source": [
    "google_data.describe()"
   ]
  },
  {
   "cell_type": "code",
   "execution_count": 10,
   "id": "d392237a-ef79-46b9-8152-5ef4016a6faa",
   "metadata": {
    "tags": []
   },
   "outputs": [
    {
     "name": "stdout",
     "output_type": "stream",
     "text": [
      "<class 'pandas.core.frame.DataFrame'>\n",
      "DatetimeIndex: 5033 entries, 2005-01-03 to 2024-12-31\n",
      "Data columns (total 6 columns):\n",
      " #   Column             Non-Null Count  Dtype  \n",
      "---  ------             --------------  -----  \n",
      " 0   (Adj Close, GOOG)  5033 non-null   float64\n",
      " 1   (Close, GOOG)      5033 non-null   float64\n",
      " 2   (High, GOOG)       5033 non-null   float64\n",
      " 3   (Low, GOOG)        5033 non-null   float64\n",
      " 4   (Open, GOOG)       5033 non-null   float64\n",
      " 5   (Volume, GOOG)     5033 non-null   int64  \n",
      "dtypes: float64(5), int64(1)\n",
      "memory usage: 275.2 KB\n"
     ]
    }
   ],
   "source": [
    "google_data.info()"
   ]
  },
  {
   "cell_type": "code",
   "execution_count": 11,
   "id": "2d11ce73-9a0e-4567-a978-847b06ca05e6",
   "metadata": {
    "tags": []
   },
   "outputs": [
    {
     "data": {
      "text/plain": [
       "Price      Ticker\n",
       "Adj Close  GOOG      0\n",
       "Close      GOOG      0\n",
       "High       GOOG      0\n",
       "Low        GOOG      0\n",
       "Open       GOOG      0\n",
       "Volume     GOOG      0\n",
       "dtype: int64"
      ]
     },
     "execution_count": 11,
     "metadata": {},
     "output_type": "execute_result"
    }
   ],
   "source": [
    "google_data.isna().sum()"
   ]
  },
  {
   "cell_type": "code",
   "execution_count": 12,
   "id": "611f1c8d-3fe7-490f-903a-be7852a8731f",
   "metadata": {
    "tags": []
   },
   "outputs": [],
   "source": [
    "import matplotlib.pyplot as plt\n",
    "%matplotlib inline"
   ]
  },
  {
   "cell_type": "code",
   "execution_count": 13,
   "id": "63bf79d6-15e6-40a9-8a50-c81563f37c29",
   "metadata": {
    "tags": []
   },
   "outputs": [
    {
     "data": {
      "text/plain": [
       "Text(0.5, 1.0, 'Closing price of Google data')"
      ]
     },
     "execution_count": 13,
     "metadata": {},
     "output_type": "execute_result"
    }
   ],
   "source": [
    "plt.figure(figsize = (15,5))\n",
    "google_data['Adj Close'].plot()\n",
    "plt.xlabel(\"years\")\n",
    "plt.ylabel(\"Adj Close\")\n",
    "plt.title(\"Closing price of Google data\")"
   ]
  },
  {
   "cell_type": "code",
   "execution_count": 14,
   "id": "0bd1003e-4d13-46fc-942d-5fa6d9f5f7bb",
   "metadata": {
    "tags": []
   },
   "outputs": [],
   "source": [
    "def plot_graph(figsize, values, column_name):\n",
    "    plt.figure()\n",
    "    values.plot(figsize = figsize)\n",
    "    plt.xlabel(\"years\")\n",
    "    plt.ylabel(column_name)\n",
    "    plt.title(f\"{column_name} of Google data\")\n",
    "    "
   ]
  },
  {
   "cell_type": "code",
   "execution_count": 15,
   "id": "4d60888a-218c-4033-a271-1fcad9e23e5c",
   "metadata": {
    "tags": []
   },
   "outputs": [
    {
     "data": {
      "text/plain": [
       "MultiIndex([('Adj Close', 'GOOG'),\n",
       "            (    'Close', 'GOOG'),\n",
       "            (     'High', 'GOOG'),\n",
       "            (      'Low', 'GOOG'),\n",
       "            (     'Open', 'GOOG'),\n",
       "            (   'Volume', 'GOOG')],\n",
       "           names=['Price', 'Ticker'])"
      ]
     },
     "execution_count": 15,
     "metadata": {},
     "output_type": "execute_result"
    }
   ],
   "source": [
    "google_data.columns"
   ]
  },
  {
   "cell_type": "code",
   "execution_count": 16,
   "id": "fd0b15e6-296d-453e-a9f5-f2404017d9f2",
   "metadata": {
    "tags": []
   },
   "outputs": [],
   "source": [
    "for column in google_data.columns:\n",
    "    plot_graph((15,5),google_data[column], column)"
   ]
  },
  {
   "cell_type": "code",
   "execution_count": 17,
   "id": "9f87ab6a-4878-4a37-9219-ae8cdf6f902a",
   "metadata": {},
   "outputs": [],
   "source": [
    "# 10, 20, 30, 40, 50, 60, 70, 80, 90, 100\n",
    "\n",
    "# MA for 5 days ==> null null null null 30 40 50 60 70 80"
   ]
  },
  {
   "cell_type": "code",
   "execution_count": 18,
   "id": "ae746f78-b801-4e2e-a1d2-ff9b548c537b",
   "metadata": {
    "tags": []
   },
   "outputs": [
    {
     "name": "stdout",
     "output_type": "stream",
     "text": [
      "40.0\n"
     ]
    }
   ],
   "source": [
    "temp_data = [10, 20, 30, 40, 50, 60, 70, 80, 90, 100]\n",
    "print(sum(temp_data[1:6])/5)"
   ]
  },
  {
   "cell_type": "code",
   "execution_count": 19,
   "id": "553cd45d-27ab-42ae-8028-2c23be107bc6",
   "metadata": {
    "tags": []
   },
   "outputs": [
    {
     "data": {
      "text/html": [
       "<div>\n",
       "<style scoped>\n",
       "    .dataframe tbody tr th:only-of-type {\n",
       "        vertical-align: middle;\n",
       "    }\n",
       "\n",
       "    .dataframe tbody tr th {\n",
       "        vertical-align: top;\n",
       "    }\n",
       "\n",
       "    .dataframe thead th {\n",
       "        text-align: right;\n",
       "    }\n",
       "</style>\n",
       "<table border=\"1\" class=\"dataframe\">\n",
       "  <thead>\n",
       "    <tr style=\"text-align: right;\">\n",
       "      <th></th>\n",
       "      <th>0</th>\n",
       "    </tr>\n",
       "  </thead>\n",
       "  <tbody>\n",
       "    <tr>\n",
       "      <th>0</th>\n",
       "      <td>10</td>\n",
       "    </tr>\n",
       "    <tr>\n",
       "      <th>1</th>\n",
       "      <td>20</td>\n",
       "    </tr>\n",
       "    <tr>\n",
       "      <th>2</th>\n",
       "      <td>30</td>\n",
       "    </tr>\n",
       "    <tr>\n",
       "      <th>3</th>\n",
       "      <td>40</td>\n",
       "    </tr>\n",
       "    <tr>\n",
       "      <th>4</th>\n",
       "      <td>50</td>\n",
       "    </tr>\n",
       "  </tbody>\n",
       "</table>\n",
       "</div>"
      ],
      "text/plain": [
       "    0\n",
       "0  10\n",
       "1  20\n",
       "2  30\n",
       "3  40\n",
       "4  50"
      ]
     },
     "execution_count": 19,
     "metadata": {},
     "output_type": "execute_result"
    }
   ],
   "source": [
    "import pandas as pd\n",
    "data = pd.DataFrame([10, 20, 30, 40, 50, 60, 70, 80, 90, 100])\n",
    "data.head()"
   ]
  },
  {
   "cell_type": "code",
   "execution_count": 20,
   "id": "5c605efc-04e6-4673-a9c1-ae51f2716eb6",
   "metadata": {
    "tags": []
   },
   "outputs": [
    {
     "data": {
      "text/html": [
       "<div>\n",
       "<style scoped>\n",
       "    .dataframe tbody tr th:only-of-type {\n",
       "        vertical-align: middle;\n",
       "    }\n",
       "\n",
       "    .dataframe tbody tr th {\n",
       "        vertical-align: top;\n",
       "    }\n",
       "\n",
       "    .dataframe thead th {\n",
       "        text-align: right;\n",
       "    }\n",
       "</style>\n",
       "<table border=\"1\" class=\"dataframe\">\n",
       "  <thead>\n",
       "    <tr style=\"text-align: right;\">\n",
       "      <th></th>\n",
       "      <th>0</th>\n",
       "      <th>MA</th>\n",
       "    </tr>\n",
       "  </thead>\n",
       "  <tbody>\n",
       "    <tr>\n",
       "      <th>0</th>\n",
       "      <td>10</td>\n",
       "      <td>NaN</td>\n",
       "    </tr>\n",
       "    <tr>\n",
       "      <th>1</th>\n",
       "      <td>20</td>\n",
       "      <td>NaN</td>\n",
       "    </tr>\n",
       "    <tr>\n",
       "      <th>2</th>\n",
       "      <td>30</td>\n",
       "      <td>NaN</td>\n",
       "    </tr>\n",
       "    <tr>\n",
       "      <th>3</th>\n",
       "      <td>40</td>\n",
       "      <td>NaN</td>\n",
       "    </tr>\n",
       "    <tr>\n",
       "      <th>4</th>\n",
       "      <td>50</td>\n",
       "      <td>30.0</td>\n",
       "    </tr>\n",
       "    <tr>\n",
       "      <th>5</th>\n",
       "      <td>60</td>\n",
       "      <td>40.0</td>\n",
       "    </tr>\n",
       "    <tr>\n",
       "      <th>6</th>\n",
       "      <td>70</td>\n",
       "      <td>50.0</td>\n",
       "    </tr>\n",
       "    <tr>\n",
       "      <th>7</th>\n",
       "      <td>80</td>\n",
       "      <td>60.0</td>\n",
       "    </tr>\n",
       "    <tr>\n",
       "      <th>8</th>\n",
       "      <td>90</td>\n",
       "      <td>70.0</td>\n",
       "    </tr>\n",
       "    <tr>\n",
       "      <th>9</th>\n",
       "      <td>100</td>\n",
       "      <td>80.0</td>\n",
       "    </tr>\n",
       "  </tbody>\n",
       "</table>\n",
       "</div>"
      ],
      "text/plain": [
       "     0    MA\n",
       "0   10   NaN\n",
       "1   20   NaN\n",
       "2   30   NaN\n",
       "3   40   NaN\n",
       "4   50  30.0\n",
       "5   60  40.0\n",
       "6   70  50.0\n",
       "7   80  60.0\n",
       "8   90  70.0\n",
       "9  100  80.0"
      ]
     },
     "execution_count": 20,
     "metadata": {},
     "output_type": "execute_result"
    }
   ],
   "source": [
    "data['MA'] = data.rolling(5).mean()\n",
    "data"
   ]
  },
  {
   "cell_type": "code",
   "execution_count": 21,
   "id": "565b5d4a-6a94-466b-a68e-d9e35ca0ee5b",
   "metadata": {
    "tags": []
   },
   "outputs": [
    {
     "name": "stdout",
     "output_type": "stream",
     "text": [
      "2004 0\n",
      "2005 252\n",
      "2006 251\n",
      "2007 251\n",
      "2008 253\n",
      "2009 252\n",
      "2010 252\n",
      "2011 252\n",
      "2012 250\n",
      "2013 252\n",
      "2014 252\n",
      "2015 252\n",
      "2016 252\n",
      "2017 251\n",
      "2018 251\n",
      "2019 252\n",
      "2020 253\n",
      "2021 252\n",
      "2022 251\n",
      "2023 250\n",
      "2024 252\n"
     ]
    }
   ],
   "source": [
    "for i in range(2004,2025):\n",
    "    print(i,list(google_data.index.year).count(i))"
   ]
  },
  {
   "cell_type": "code",
   "execution_count": 22,
   "id": "e90c0f2b-2e43-4a84-877a-579b255e3e01",
   "metadata": {
    "tags": []
   },
   "outputs": [],
   "source": [
    "google_data['MA_for_250_days'] = google_data['Adj Close'].rolling(250).mean()"
   ]
  },
  {
   "cell_type": "code",
   "execution_count": 23,
   "id": "6675833d-1584-400f-bd4e-cb00feeef6cb",
   "metadata": {
    "tags": []
   },
   "outputs": [
    {
     "data": {
      "text/plain": [
       "Date\n",
       "2005-12-21         NaN\n",
       "2005-12-22         NaN\n",
       "2005-12-23         NaN\n",
       "2005-12-27         NaN\n",
       "2005-12-28    6.865533\n",
       "Name: MA_for_250_days, dtype: float64"
      ]
     },
     "execution_count": 23,
     "metadata": {},
     "output_type": "execute_result"
    }
   ],
   "source": [
    "google_data['MA_for_250_days'][0:250].tail()"
   ]
  },
  {
   "cell_type": "code",
   "execution_count": 24,
   "id": "29eecd8c-1dcd-4521-9815-de56b9bab77e",
   "metadata": {
    "tags": []
   },
   "outputs": [],
   "source": [
    "plot_graph((15,5), google_data['MA_for_250_days'], 'MA_for_250_days')"
   ]
  },
  {
   "cell_type": "code",
   "execution_count": 25,
   "id": "cea8221a-490c-40f1-96ce-60b58bcf4c8a",
   "metadata": {
    "tags": []
   },
   "outputs": [],
   "source": [
    "plot_graph((15,5), google_data[['Adj Close','MA_for_250_days']], 'MA_for_250_days')"
   ]
  },
  {
   "cell_type": "code",
   "execution_count": 26,
   "id": "f6bd95a5-cc72-4daa-bbfc-084470c7e3d6",
   "metadata": {
    "tags": []
   },
   "outputs": [],
   "source": [
    "google_data['MA_for_100_days'] = google_data['Adj Close'].rolling(100).mean()\n",
    "plot_graph((15,5), google_data[['Adj Close','MA_for_100_days']], 'MA_for_100_days')"
   ]
  },
  {
   "cell_type": "code",
   "execution_count": 27,
   "id": "e9903b50-b4b5-4b19-bdab-f8f10ce6db94",
   "metadata": {
    "tags": []
   },
   "outputs": [],
   "source": [
    "plot_graph((15,5), google_data[['Adj Close','MA_for_100_days', 'MA_for_250_days']], 'MA')"
   ]
  },
  {
   "cell_type": "code",
   "execution_count": 28,
   "id": "0110322b-035b-4e49-87ed-284510093ce9",
   "metadata": {
    "tags": []
   },
   "outputs": [
    {
     "data": {
      "text/html": [
       "<div>\n",
       "<style scoped>\n",
       "    .dataframe tbody tr th:only-of-type {\n",
       "        vertical-align: middle;\n",
       "    }\n",
       "\n",
       "    .dataframe tbody tr th {\n",
       "        vertical-align: top;\n",
       "    }\n",
       "\n",
       "    .dataframe thead tr th {\n",
       "        text-align: left;\n",
       "    }\n",
       "\n",
       "    .dataframe thead tr:last-of-type th {\n",
       "        text-align: right;\n",
       "    }\n",
       "</style>\n",
       "<table border=\"1\" class=\"dataframe\">\n",
       "  <thead>\n",
       "    <tr>\n",
       "      <th>Price</th>\n",
       "      <th>Adj Close</th>\n",
       "      <th>percentage_change_cp</th>\n",
       "    </tr>\n",
       "    <tr>\n",
       "      <th>Ticker</th>\n",
       "      <th>GOOG</th>\n",
       "      <th></th>\n",
       "    </tr>\n",
       "    <tr>\n",
       "      <th>Date</th>\n",
       "      <th></th>\n",
       "      <th></th>\n",
       "    </tr>\n",
       "  </thead>\n",
       "  <tbody>\n",
       "    <tr>\n",
       "      <th>2005-01-03</th>\n",
       "      <td>5.030750</td>\n",
       "      <td>NaN</td>\n",
       "    </tr>\n",
       "    <tr>\n",
       "      <th>2005-01-04</th>\n",
       "      <td>4.826999</td>\n",
       "      <td>-0.040501</td>\n",
       "    </tr>\n",
       "    <tr>\n",
       "      <th>2005-01-05</th>\n",
       "      <td>4.802429</td>\n",
       "      <td>-0.005090</td>\n",
       "    </tr>\n",
       "    <tr>\n",
       "      <th>2005-01-06</th>\n",
       "      <td>4.679335</td>\n",
       "      <td>-0.025632</td>\n",
       "    </tr>\n",
       "    <tr>\n",
       "      <th>2005-01-07</th>\n",
       "      <td>4.810867</td>\n",
       "      <td>0.028109</td>\n",
       "    </tr>\n",
       "  </tbody>\n",
       "</table>\n",
       "</div>"
      ],
      "text/plain": [
       "Price      Adj Close percentage_change_cp\n",
       "Ticker          GOOG                     \n",
       "Date                                     \n",
       "2005-01-03  5.030750                  NaN\n",
       "2005-01-04  4.826999            -0.040501\n",
       "2005-01-05  4.802429            -0.005090\n",
       "2005-01-06  4.679335            -0.025632\n",
       "2005-01-07  4.810867             0.028109"
      ]
     },
     "execution_count": 28,
     "metadata": {},
     "output_type": "execute_result"
    }
   ],
   "source": [
    "google_data['percentage_change_cp'] = google_data['Adj Close'].pct_change()\n",
    "google_data[['Adj Close','percentage_change_cp']].head()"
   ]
  },
  {
   "cell_type": "code",
   "execution_count": 29,
   "id": "99d9e73b-224c-45e8-a176-9eb4c0cd3094",
   "metadata": {
    "tags": []
   },
   "outputs": [],
   "source": [
    "plot_graph((15,5), google_data['percentage_change_cp'], 'percentage_change')"
   ]
  },
  {
   "cell_type": "code",
   "execution_count": 30,
   "id": "606cb44e-a5f8-4a70-b3d1-41d05f969849",
   "metadata": {
    "tags": []
   },
   "outputs": [],
   "source": [
    "Adj_close_price = google_data[['Adj Close']]"
   ]
  },
  {
   "cell_type": "code",
   "execution_count": 31,
   "id": "f53f3f5e-00ea-427e-a87c-cfc9254898b9",
   "metadata": {
    "tags": []
   },
   "outputs": [
    {
     "data": {
      "text/plain": [
       "(array([198.16000366]), array([4.34281015]))"
      ]
     },
     "execution_count": 31,
     "metadata": {},
     "output_type": "execute_result"
    }
   ],
   "source": [
    "max(Adj_close_price.values),min(Adj_close_price.values) "
   ]
  },
  {
   "cell_type": "code",
   "execution_count": 32,
   "id": "8d67f5b9-6701-438c-a73a-1a9116f3371a",
   "metadata": {
    "tags": []
   },
   "outputs": [
    {
     "data": {
      "text/plain": [
       "array([[0.00354943],\n",
       "       [0.00249817],\n",
       "       [0.0023714 ],\n",
       "       ...,\n",
       "       [0.9787428 ],\n",
       "       [0.97177752],\n",
       "       [0.96016865]])"
      ]
     },
     "execution_count": 32,
     "metadata": {},
     "output_type": "execute_result"
    }
   ],
   "source": [
    "from sklearn.preprocessing import MinMaxScaler\n",
    "\n",
    "scaler = MinMaxScaler(feature_range=(0,1))\n",
    "scaled_data = scaler.fit_transform(Adj_close_price)\n",
    "scaled_data"
   ]
  },
  {
   "cell_type": "code",
   "execution_count": 33,
   "id": "23a435c4-e870-43ca-96ff-e2ce3f4ea371",
   "metadata": {
    "tags": []
   },
   "outputs": [
    {
     "data": {
      "text/plain": [
       "5033"
      ]
     },
     "execution_count": 33,
     "metadata": {},
     "output_type": "execute_result"
    }
   ],
   "source": [
    "len(scaled_data)"
   ]
  },
  {
   "cell_type": "code",
   "execution_count": 34,
   "id": "f25ff378-855b-48e1-ade3-3656810f7244",
   "metadata": {
    "tags": []
   },
   "outputs": [],
   "source": [
    "x_data = []\n",
    "y_data = []\n",
    "\n",
    "for i in range(100, len(scaled_data)):\n",
    "    x_data.append(scaled_data[i-100:i])\n",
    "    y_data.append(scaled_data[i])\n",
    "    \n",
    "import numpy as np\n",
    "x_data, y_data = np.array(x_data), np.array(y_data)"
   ]
  },
  {
   "cell_type": "code",
   "execution_count": 35,
   "id": "4d9f6284-93ec-44c9-a15a-cf723d4b9fdd",
   "metadata": {
    "tags": []
   },
   "outputs": [
    {
     "data": {
      "text/plain": [
       "(array([[3.54942527e-03],\n",
       "        [2.49817133e-03],\n",
       "        [2.37140491e-03],\n",
       "        [1.73629842e-03],\n",
       "        [2.41494135e-03],\n",
       "        [2.56987508e-03],\n",
       "        [2.37524535e-03],\n",
       "        [2.61085041e-03],\n",
       "        [2.60444640e-03],\n",
       "        [3.19858495e-03],\n",
       "        [3.70180280e-03],\n",
       "        [2.85669991e-03],\n",
       "        [2.42390155e-03],\n",
       "        [1.70172464e-03],\n",
       "        [7.33700686e-04],\n",
       "        [2.72737484e-04],\n",
       "        [1.82464570e-03],\n",
       "        [1.67611844e-03],\n",
       "        [1.96549946e-03],\n",
       "        [2.64158129e-03],\n",
       "        [2.16525141e-03],\n",
       "        [3.96557270e-03],\n",
       "        [4.59299833e-03],\n",
       "        [3.76070345e-03],\n",
       "        [2.69407793e-03],\n",
       "        [3.02827963e-03],\n",
       "        [2.12427609e-03],\n",
       "        [1.66331289e-03],\n",
       "        [1.58904311e-03],\n",
       "        [2.30482093e-03],\n",
       "        [2.59164084e-03],\n",
       "        [2.99882808e-03],\n",
       "        [2.93352834e-03],\n",
       "        [2.93992743e-03],\n",
       "        [2.09738564e-03],\n",
       "        [2.42774691e-03],\n",
       "        [1.77983240e-03],\n",
       "        [1.39313651e-03],\n",
       "        [1.66458975e-03],\n",
       "        [1.41746092e-03],\n",
       "        [1.30478185e-03],\n",
       "        [1.53910266e-03],\n",
       "        [1.39697695e-03],\n",
       "        [1.76958795e-03],\n",
       "        [1.30734050e-03],\n",
       "        [8.14367094e-04],\n",
       "        [6.38946934e-04],\n",
       "        [3.59805441e-04],\n",
       "        [0.00000000e+00],\n",
       "        [4.63524314e-04],\n",
       "        [7.81077562e-05],\n",
       "        [5.50592271e-04],\n",
       "        [6.46625348e-04],\n",
       "        [7.54187119e-04],\n",
       "        [4.62242528e-04],\n",
       "        [5.10898730e-04],\n",
       "        [5.45472507e-04],\n",
       "        [8.23327294e-04],\n",
       "        [5.86445374e-04],\n",
       "        [6.99126908e-04],\n",
       "        [7.06807783e-04],\n",
       "        [6.46625348e-04],\n",
       "        [1.31886919e-03],\n",
       "        [1.73885953e-03],\n",
       "        [1.82208705e-03],\n",
       "        [2.40341266e-03],\n",
       "        [2.18445606e-03],\n",
       "        [2.33555181e-03],\n",
       "        [2.42902624e-03],\n",
       "        [2.29714006e-03],\n",
       "        [2.10763009e-03],\n",
       "        [1.28173184e-03],\n",
       "        [1.53398536e-03],\n",
       "        [2.10122854e-03],\n",
       "        [2.95913454e-03],\n",
       "        [3.74277567e-03],\n",
       "        [5.22682550e-03],\n",
       "        [6.21533835e-03],\n",
       "        [5.60327693e-03],\n",
       "        [5.73516312e-03],\n",
       "        [5.69291338e-03],\n",
       "        [5.76333780e-03],\n",
       "        [6.05656418e-03],\n",
       "        [6.55594160e-03],\n",
       "        [6.85172417e-03],\n",
       "        [6.65709690e-03],\n",
       "        [6.79026241e-03],\n",
       "        [6.53417338e-03],\n",
       "        [6.76209264e-03],\n",
       "        [7.20897588e-03],\n",
       "        [6.87989886e-03],\n",
       "        [6.94648038e-03],\n",
       "        [7.17824254e-03],\n",
       "        [7.44458093e-03],\n",
       "        [8.21669583e-03],\n",
       "        [8.21925202e-03],\n",
       "        [8.53040372e-03],\n",
       "        [1.03025602e-02],\n",
       "        [1.03729846e-02],\n",
       "        [1.09888864e-02]]),\n",
       " array([0.01078273]))"
      ]
     },
     "execution_count": 35,
     "metadata": {},
     "output_type": "execute_result"
    }
   ],
   "source": [
    "x_data[0],y_data[0]"
   ]
  },
  {
   "cell_type": "code",
   "execution_count": 36,
   "id": "1c8f9304-b14c-4abf-8526-62cb0a9c156f",
   "metadata": {
    "tags": []
   },
   "outputs": [
    {
     "data": {
      "text/plain": [
       "3453"
      ]
     },
     "execution_count": 36,
     "metadata": {},
     "output_type": "execute_result"
    }
   ],
   "source": [
    "\n",
    "int(len(x_data)*0.7)"
   ]
  },
  {
   "cell_type": "code",
   "execution_count": 37,
   "id": "5293769c-5ec9-4d93-89c5-60384d13c506",
   "metadata": {
    "tags": []
   },
   "outputs": [
    {
     "data": {
      "text/plain": [
       "1355"
      ]
     },
     "execution_count": 37,
     "metadata": {},
     "output_type": "execute_result"
    }
   ],
   "source": [
    "4908-100-int(len(x_data)*0.7)"
   ]
  },
  {
   "cell_type": "code",
   "execution_count": 38,
   "id": "96806ee8-341f-4970-9916-e2bb475f1239",
   "metadata": {
    "tags": []
   },
   "outputs": [],
   "source": [
    "splitting_len = int(len(x_data)*0.7)\n",
    "x_train = x_data[:splitting_len]\n",
    "y_train = y_data[:splitting_len]\n",
    "\n",
    "x_test = x_data[splitting_len:]\n",
    "y_test = y_data[splitting_len:]"
   ]
  },
  {
   "cell_type": "code",
   "execution_count": 39,
   "id": "b511dbbc-73ff-4738-ace7-a560ff7e1e5e",
   "metadata": {
    "tags": []
   },
   "outputs": [
    {
     "name": "stdout",
     "output_type": "stream",
     "text": [
      "(3453, 100, 1)\n",
      "(3453, 1)\n",
      "(1480, 100, 1)\n",
      "(1480, 1)\n"
     ]
    }
   ],
   "source": [
    "print(x_train.shape)\n",
    "print(y_train.shape)\n",
    "print(x_test.shape)\n",
    "print(y_test.shape)"
   ]
  },
  {
   "cell_type": "code",
   "execution_count": 40,
   "id": "c612b8c3-1404-4f95-98da-331e613c12a1",
   "metadata": {
    "tags": []
   },
   "outputs": [],
   "source": [
    "from keras.models import Sequential\n",
    "from keras.layers import Dense, LSTM"
   ]
  },
  {
   "cell_type": "code",
   "execution_count": 41,
   "id": "1c435f55-3fed-4fde-a05d-a9a74aec71c2",
   "metadata": {
    "tags": []
   },
   "outputs": [
    {
     "name": "stderr",
     "output_type": "stream",
     "text": [
      "c:\\Users\\bhargav\\ML\\anaconda\\envs\\tensorflow_env\\lib\\site-packages\\keras\\src\\layers\\rnn\\rnn.py:204: UserWarning: Do not pass an `input_shape`/`input_dim` argument to a layer. When using Sequential models, prefer using an `Input(shape)` object as the first layer in the model instead.\n",
      "  super().__init__(**kwargs)\n"
     ]
    }
   ],
   "source": [
    "model = Sequential()\n",
    "model.add(LSTM(128, return_sequences=True, input_shape=(x_train.shape[1],1)))\n",
    "model.add(LSTM(64,return_sequences=False))\n",
    "model.add(Dense(25))\n",
    "model.add(Dense(1))"
   ]
  },
  {
   "cell_type": "code",
   "execution_count": 42,
   "id": "88fcc815-9bc4-4bee-a3ef-775efab8e7a1",
   "metadata": {
    "tags": []
   },
   "outputs": [],
   "source": [
    "model.compile(optimizer='adam', loss='mean_squared_error')"
   ]
  },
  {
   "cell_type": "code",
   "execution_count": 43,
   "id": "d02c345d-3771-4cea-b420-dd9f35e3c384",
   "metadata": {
    "tags": []
   },
   "outputs": [
    {
     "name": "stdout",
     "output_type": "stream",
     "text": [
      "Epoch 1/2\n",
      "\u001b[1m3453/3453\u001b[0m \u001b[32m━━━━━━━━━━━━━━━━━━━━\u001b[0m\u001b[37m\u001b[0m \u001b[1m97s\u001b[0m 27ms/step - loss: 2.3369e-04\n",
      "Epoch 2/2\n",
      "\u001b[1m3453/3453\u001b[0m \u001b[32m━━━━━━━━━━━━━━━━━━━━\u001b[0m\u001b[37m\u001b[0m \u001b[1m122s\u001b[0m 35ms/step - loss: 5.3382e-05\n"
     ]
    },
    {
     "data": {
      "text/plain": [
       "<keras.src.callbacks.history.History at 0x19e3613b130>"
      ]
     },
     "execution_count": 43,
     "metadata": {},
     "output_type": "execute_result"
    }
   ],
   "source": [
    "model.fit(x_train, y_train, batch_size=1, epochs = 2)"
   ]
  },
  {
   "cell_type": "code",
   "execution_count": 44,
   "id": "353e6234-0b99-4cbb-b77f-524d76b38652",
   "metadata": {
    "tags": []
   },
   "outputs": [
    {
     "data": {
      "text/html": [
       "<pre style=\"white-space:pre;overflow-x:auto;line-height:normal;font-family:Menlo,'DejaVu Sans Mono',consolas,'Courier New',monospace\"><span style=\"font-weight: bold\">Model: \"sequential\"</span>\n",
       "</pre>\n"
      ],
      "text/plain": [
       "\u001b[1mModel: \"sequential\"\u001b[0m\n"
      ]
     },
     "metadata": {},
     "output_type": "display_data"
    },
    {
     "data": {
      "text/html": [
       "<pre style=\"white-space:pre;overflow-x:auto;line-height:normal;font-family:Menlo,'DejaVu Sans Mono',consolas,'Courier New',monospace\">┏━━━━━━━━━━━━━━━━━━━━━━━━━━━━━━━━━┳━━━━━━━━━━━━━━━━━━━━━━━━┳━━━━━━━━━━━━━━━┓\n",
       "┃<span style=\"font-weight: bold\"> Layer (type)                    </span>┃<span style=\"font-weight: bold\"> Output Shape           </span>┃<span style=\"font-weight: bold\">       Param # </span>┃\n",
       "┡━━━━━━━━━━━━━━━━━━━━━━━━━━━━━━━━━╇━━━━━━━━━━━━━━━━━━━━━━━━╇━━━━━━━━━━━━━━━┩\n",
       "│ lstm (<span style=\"color: #0087ff; text-decoration-color: #0087ff\">LSTM</span>)                     │ (<span style=\"color: #00d7ff; text-decoration-color: #00d7ff\">None</span>, <span style=\"color: #00af00; text-decoration-color: #00af00\">100</span>, <span style=\"color: #00af00; text-decoration-color: #00af00\">128</span>)       │        <span style=\"color: #00af00; text-decoration-color: #00af00\">66,560</span> │\n",
       "├─────────────────────────────────┼────────────────────────┼───────────────┤\n",
       "│ lstm_1 (<span style=\"color: #0087ff; text-decoration-color: #0087ff\">LSTM</span>)                   │ (<span style=\"color: #00d7ff; text-decoration-color: #00d7ff\">None</span>, <span style=\"color: #00af00; text-decoration-color: #00af00\">64</span>)             │        <span style=\"color: #00af00; text-decoration-color: #00af00\">49,408</span> │\n",
       "├─────────────────────────────────┼────────────────────────┼───────────────┤\n",
       "│ dense (<span style=\"color: #0087ff; text-decoration-color: #0087ff\">Dense</span>)                   │ (<span style=\"color: #00d7ff; text-decoration-color: #00d7ff\">None</span>, <span style=\"color: #00af00; text-decoration-color: #00af00\">25</span>)             │         <span style=\"color: #00af00; text-decoration-color: #00af00\">1,625</span> │\n",
       "├─────────────────────────────────┼────────────────────────┼───────────────┤\n",
       "│ dense_1 (<span style=\"color: #0087ff; text-decoration-color: #0087ff\">Dense</span>)                 │ (<span style=\"color: #00d7ff; text-decoration-color: #00d7ff\">None</span>, <span style=\"color: #00af00; text-decoration-color: #00af00\">1</span>)              │            <span style=\"color: #00af00; text-decoration-color: #00af00\">26</span> │\n",
       "└─────────────────────────────────┴────────────────────────┴───────────────┘\n",
       "</pre>\n"
      ],
      "text/plain": [
       "┏━━━━━━━━━━━━━━━━━━━━━━━━━━━━━━━━━┳━━━━━━━━━━━━━━━━━━━━━━━━┳━━━━━━━━━━━━━━━┓\n",
       "┃\u001b[1m \u001b[0m\u001b[1mLayer (type)                   \u001b[0m\u001b[1m \u001b[0m┃\u001b[1m \u001b[0m\u001b[1mOutput Shape          \u001b[0m\u001b[1m \u001b[0m┃\u001b[1m \u001b[0m\u001b[1m      Param #\u001b[0m\u001b[1m \u001b[0m┃\n",
       "┡━━━━━━━━━━━━━━━━━━━━━━━━━━━━━━━━━╇━━━━━━━━━━━━━━━━━━━━━━━━╇━━━━━━━━━━━━━━━┩\n",
       "│ lstm (\u001b[38;5;33mLSTM\u001b[0m)                     │ (\u001b[38;5;45mNone\u001b[0m, \u001b[38;5;34m100\u001b[0m, \u001b[38;5;34m128\u001b[0m)       │        \u001b[38;5;34m66,560\u001b[0m │\n",
       "├─────────────────────────────────┼────────────────────────┼───────────────┤\n",
       "│ lstm_1 (\u001b[38;5;33mLSTM\u001b[0m)                   │ (\u001b[38;5;45mNone\u001b[0m, \u001b[38;5;34m64\u001b[0m)             │        \u001b[38;5;34m49,408\u001b[0m │\n",
       "├─────────────────────────────────┼────────────────────────┼───────────────┤\n",
       "│ dense (\u001b[38;5;33mDense\u001b[0m)                   │ (\u001b[38;5;45mNone\u001b[0m, \u001b[38;5;34m25\u001b[0m)             │         \u001b[38;5;34m1,625\u001b[0m │\n",
       "├─────────────────────────────────┼────────────────────────┼───────────────┤\n",
       "│ dense_1 (\u001b[38;5;33mDense\u001b[0m)                 │ (\u001b[38;5;45mNone\u001b[0m, \u001b[38;5;34m1\u001b[0m)              │            \u001b[38;5;34m26\u001b[0m │\n",
       "└─────────────────────────────────┴────────────────────────┴───────────────┘\n"
      ]
     },
     "metadata": {},
     "output_type": "display_data"
    },
    {
     "data": {
      "text/html": [
       "<pre style=\"white-space:pre;overflow-x:auto;line-height:normal;font-family:Menlo,'DejaVu Sans Mono',consolas,'Courier New',monospace\"><span style=\"font-weight: bold\"> Total params: </span><span style=\"color: #00af00; text-decoration-color: #00af00\">352,859</span> (1.35 MB)\n",
       "</pre>\n"
      ],
      "text/plain": [
       "\u001b[1m Total params: \u001b[0m\u001b[38;5;34m352,859\u001b[0m (1.35 MB)\n"
      ]
     },
     "metadata": {},
     "output_type": "display_data"
    },
    {
     "data": {
      "text/html": [
       "<pre style=\"white-space:pre;overflow-x:auto;line-height:normal;font-family:Menlo,'DejaVu Sans Mono',consolas,'Courier New',monospace\"><span style=\"font-weight: bold\"> Trainable params: </span><span style=\"color: #00af00; text-decoration-color: #00af00\">117,619</span> (459.45 KB)\n",
       "</pre>\n"
      ],
      "text/plain": [
       "\u001b[1m Trainable params: \u001b[0m\u001b[38;5;34m117,619\u001b[0m (459.45 KB)\n"
      ]
     },
     "metadata": {},
     "output_type": "display_data"
    },
    {
     "data": {
      "text/html": [
       "<pre style=\"white-space:pre;overflow-x:auto;line-height:normal;font-family:Menlo,'DejaVu Sans Mono',consolas,'Courier New',monospace\"><span style=\"font-weight: bold\"> Non-trainable params: </span><span style=\"color: #00af00; text-decoration-color: #00af00\">0</span> (0.00 B)\n",
       "</pre>\n"
      ],
      "text/plain": [
       "\u001b[1m Non-trainable params: \u001b[0m\u001b[38;5;34m0\u001b[0m (0.00 B)\n"
      ]
     },
     "metadata": {},
     "output_type": "display_data"
    },
    {
     "data": {
      "text/html": [
       "<pre style=\"white-space:pre;overflow-x:auto;line-height:normal;font-family:Menlo,'DejaVu Sans Mono',consolas,'Courier New',monospace\"><span style=\"font-weight: bold\"> Optimizer params: </span><span style=\"color: #00af00; text-decoration-color: #00af00\">235,240</span> (918.91 KB)\n",
       "</pre>\n"
      ],
      "text/plain": [
       "\u001b[1m Optimizer params: \u001b[0m\u001b[38;5;34m235,240\u001b[0m (918.91 KB)\n"
      ]
     },
     "metadata": {},
     "output_type": "display_data"
    }
   ],
   "source": [
    "model.summary()"
   ]
  },
  {
   "cell_type": "code",
   "execution_count": 45,
   "id": "67dfac43-9205-4bd1-9b5d-186bf5b69b8d",
   "metadata": {
    "tags": []
   },
   "outputs": [
    {
     "name": "stdout",
     "output_type": "stream",
     "text": [
      "\u001b[1m47/47\u001b[0m \u001b[32m━━━━━━━━━━━━━━━━━━━━\u001b[0m\u001b[37m\u001b[0m \u001b[1m2s\u001b[0m 33ms/step\n"
     ]
    }
   ],
   "source": [
    "predictions = model.predict(x_test)"
   ]
  },
  {
   "cell_type": "code",
   "execution_count": 46,
   "id": "0dc64f9f-a25f-4996-b905-cb66166fa720",
   "metadata": {
    "tags": []
   },
   "outputs": [
    {
     "data": {
      "text/plain": [
       "array([[0.26784292],\n",
       "       [0.26878974],\n",
       "       [0.26772186],\n",
       "       ...,\n",
       "       [0.9098584 ],\n",
       "       [0.90023255],\n",
       "       [0.89160305]], dtype=float32)"
      ]
     },
     "execution_count": 46,
     "metadata": {},
     "output_type": "execute_result"
    }
   ],
   "source": [
    "predictions"
   ]
  },
  {
   "cell_type": "code",
   "execution_count": 47,
   "id": "8b5efc02-fa1f-4f42-8a16-b016287b9142",
   "metadata": {
    "tags": []
   },
   "outputs": [
    {
     "data": {
      "text/plain": [
       "array([[ 56.25537],\n",
       "       [ 56.43888],\n",
       "       [ 56.23191],\n",
       "       ...,\n",
       "       [180.68901],\n",
       "       [178.82336],\n",
       "       [177.15082]], dtype=float32)"
      ]
     },
     "execution_count": 47,
     "metadata": {},
     "output_type": "execute_result"
    }
   ],
   "source": [
    "inv_predictions = scaler.inverse_transform(predictions)\n",
    "inv_predictions"
   ]
  },
  {
   "cell_type": "code",
   "execution_count": 48,
   "id": "d4cda8d7-5dff-4fa0-b3d4-be76cfd81745",
   "metadata": {
    "tags": []
   },
   "outputs": [
    {
     "data": {
      "text/plain": [
       "array([[ 55.8827095 ],\n",
       "       [ 55.48314285],\n",
       "       [ 55.72776794],\n",
       "       ...,\n",
       "       [194.03999329],\n",
       "       [192.69000244],\n",
       "       [190.44000244]])"
      ]
     },
     "execution_count": 48,
     "metadata": {},
     "output_type": "execute_result"
    }
   ],
   "source": [
    "inv_y_test = scaler.inverse_transform(y_test)\n",
    "inv_y_test"
   ]
  },
  {
   "cell_type": "code",
   "execution_count": 49,
   "id": "c12b6c7f-054d-4259-8175-c8635efb8ac1",
   "metadata": {
    "tags": []
   },
   "outputs": [],
   "source": [
    "rmse = np.sqrt(np.mean( (inv_predictions - inv_y_test)**2))"
   ]
  },
  {
   "cell_type": "code",
   "execution_count": 50,
   "id": "84edf570-f16a-4795-b12e-ee78bcb955e6",
   "metadata": {
    "tags": []
   },
   "outputs": [
    {
     "data": {
      "text/plain": [
       "5.545826379363169"
      ]
     },
     "execution_count": 50,
     "metadata": {},
     "output_type": "execute_result"
    }
   ],
   "source": [
    "rmse"
   ]
  },
  {
   "cell_type": "code",
   "execution_count": 51,
   "id": "2c6df5f8-2a74-4ffd-832c-b11d77c51dfb",
   "metadata": {
    "tags": []
   },
   "outputs": [
    {
     "data": {
      "text/html": [
       "<div>\n",
       "<style scoped>\n",
       "    .dataframe tbody tr th:only-of-type {\n",
       "        vertical-align: middle;\n",
       "    }\n",
       "\n",
       "    .dataframe tbody tr th {\n",
       "        vertical-align: top;\n",
       "    }\n",
       "\n",
       "    .dataframe thead th {\n",
       "        text-align: right;\n",
       "    }\n",
       "</style>\n",
       "<table border=\"1\" class=\"dataframe\">\n",
       "  <thead>\n",
       "    <tr style=\"text-align: right;\">\n",
       "      <th></th>\n",
       "      <th>original_test_data</th>\n",
       "      <th>predictions</th>\n",
       "    </tr>\n",
       "    <tr>\n",
       "      <th>Date</th>\n",
       "      <th></th>\n",
       "      <th></th>\n",
       "    </tr>\n",
       "  </thead>\n",
       "  <tbody>\n",
       "    <tr>\n",
       "      <th>2019-02-14</th>\n",
       "      <td>55.882710</td>\n",
       "      <td>56.255371</td>\n",
       "    </tr>\n",
       "    <tr>\n",
       "      <th>2019-02-15</th>\n",
       "      <td>55.483143</td>\n",
       "      <td>56.438881</td>\n",
       "    </tr>\n",
       "    <tr>\n",
       "      <th>2019-02-19</th>\n",
       "      <td>55.727768</td>\n",
       "      <td>56.231911</td>\n",
       "    </tr>\n",
       "    <tr>\n",
       "      <th>2019-02-20</th>\n",
       "      <td>55.490616</td>\n",
       "      <td>56.186451</td>\n",
       "    </tr>\n",
       "    <tr>\n",
       "      <th>2019-02-21</th>\n",
       "      <td>54.652130</td>\n",
       "      <td>56.065849</td>\n",
       "    </tr>\n",
       "  </tbody>\n",
       "</table>\n",
       "</div>"
      ],
      "text/plain": [
       "            original_test_data  predictions\n",
       "Date                                       \n",
       "2019-02-14           55.882710    56.255371\n",
       "2019-02-15           55.483143    56.438881\n",
       "2019-02-19           55.727768    56.231911\n",
       "2019-02-20           55.490616    56.186451\n",
       "2019-02-21           54.652130    56.065849"
      ]
     },
     "execution_count": 51,
     "metadata": {},
     "output_type": "execute_result"
    }
   ],
   "source": [
    "ploting_data = pd.DataFrame(\n",
    " {\n",
    "  'original_test_data': inv_y_test.reshape(-1),\n",
    "    'predictions': inv_predictions.reshape(-1)\n",
    " } ,\n",
    "    index = google_data.index[splitting_len+100:]\n",
    ")\n",
    "ploting_data.head()"
   ]
  },
  {
   "cell_type": "code",
   "execution_count": 52,
   "id": "22534bc0-499d-4d89-961e-61d24f506341",
   "metadata": {
    "tags": []
   },
   "outputs": [],
   "source": [
    "plot_graph((15,6), ploting_data, 'test data')"
   ]
  },
  {
   "cell_type": "code",
   "execution_count": 53,
   "id": "c909ed83-3193-4d09-9234-c51021d9eb4c",
   "metadata": {
    "tags": []
   },
   "outputs": [],
   "source": [
    "plot_graph((15,6), pd.concat([Adj_close_price[:splitting_len+100],ploting_data], axis=0), 'whole data')"
   ]
  },
  {
   "cell_type": "code",
   "execution_count": null,
   "id": "345106a8-9a52-48c9-aae9-57fe927f9ecc",
   "metadata": {},
   "outputs": [],
   "source": []
  },
  {
   "cell_type": "code",
   "execution_count": 54,
   "id": "410e40e5-3ed4-40ab-bef7-0769367284d2",
   "metadata": {
    "tags": []
   },
   "outputs": [],
   "source": [
    "model.save(\"Latest_stock_price_model.keras\")"
   ]
  },
  {
   "cell_type": "code",
   "execution_count": null,
   "id": "94c1ae33-8712-4763-9794-581a115f417c",
   "metadata": {},
   "outputs": [],
   "source": []
  }
 ],
 "metadata": {
  "kernelspec": {
   "display_name": "tensorflow_env",
   "language": "python",
   "name": "python3"
  },
  "language_info": {
   "codemirror_mode": {
    "name": "ipython",
    "version": 3
   },
   "file_extension": ".py",
   "mimetype": "text/x-python",
   "name": "python",
   "nbconvert_exporter": "python",
   "pygments_lexer": "ipython3",
   "version": "3.10.13"
  }
 },
 "nbformat": 4,
 "nbformat_minor": 5
}
